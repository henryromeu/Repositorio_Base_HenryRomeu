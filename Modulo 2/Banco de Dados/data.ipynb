{
 "cells": [
  {
   "cell_type": "code",
   "execution_count": 40,
   "id": "c5eaf535",
   "metadata": {},
   "outputs": [],
   "source": [
    "import sqlite3\n",
    "\n",
    "conexao = sqlite3.connect('usuarios.db')\n"
   ]
  },
  {
   "cell_type": "code",
   "execution_count": 21,
   "id": "e924a837",
   "metadata": {},
   "outputs": [
    {
     "name": "stdout",
     "output_type": "stream",
     "text": [
      "deu certo!\n"
     ]
    }
   ],
   "source": [
    "cursor = conexao.cursor()\n",
    "cursor.execute('''  \n",
    "\n",
    "  CREATE TABLE IF NOT EXISTS nomes (\n",
    "    id INTEGER PRIMARY KEY AUTOINCREMENT,\n",
    "    nome VARCHAR(50) NOT NULL,\n",
    "    usuario VARCHAR(50) NOT NULL,\n",
    "    idade INTEGER,\n",
    "    cpf CHAR(14)\n",
    "               );\n",
    "''')\n",
    "\n",
    "conexao.commit()\n",
    "conexao.close()\n",
    "\n",
    "print(\"deu certo!\")"
   ]
  },
  {
   "cell_type": "code",
   "execution_count": null,
   "id": "93d010f8",
   "metadata": {},
   "outputs": [],
   "source": [
    "cursor = conexao.cursor()\n",
    "cursor.execute(\"INSERT INTO nomes(nome, usuario, idade, cpf) VALUES('Henry Romeu', 'Romeuzin', 18, '111.111.111-11';\")\n",
    "\n",
    "conexao.commit()"
   ]
  },
  {
   "cell_type": "code",
   "execution_count": 41,
   "id": "f76cfdb5",
   "metadata": {},
   "outputs": [
    {
     "name": "stdout",
     "output_type": "stream",
     "text": [
      "[(1, 'Henry Romeu', 'Romeuzin', 18, '111.111.111-11'), (2, 'Henry Romeu', 'Romeuzin', 18, '111.111.111-11'), (3, 'Henry Romeu', 'Romeuzin', 18, '111.111.111-11'), (4, 'Alice Silva', 'alice01', 25, '123.456.789-01'), (5, 'Bruno Costa', 'brunoc', 30, '234.567.890-12'), (6, 'Carla Mendes', 'carlam', 22, '345.678.901-23'), (7, 'Daniel Oliveira', 'daniel_o', 28, '456.789.012-34'), (8, 'Eduardo Santos', 'eduardo_s', 35, '567.890.123-45'), (9, 'Fernanda Lima', 'fernanda_l', 27, '678.901.234-56'), (10, 'Gabriel Rocha', 'gabrielr', 24, '789.012.345-67'), (11, 'Helena Martins', 'helenam', 26, '890.123.456-78'), (12, 'Igor Ferreira', 'igor_f', 31, '901.234.567-89'), (13, 'Juliana Alves', 'juliana_a', 29, '012.345.678-90'), (14, 'Kaio Pereira', 'kaio_p', 33, '111.222.333-44'), (15, 'Laura Nunes', 'lauran', 23, '222.333.444-55'), (16, 'Marcelo Dias', 'marcelo_d', 32, '333.444.555-66'), (17, 'Natália Ramos', 'natalia_r', 28, '444.555.666-77'), (18, 'Otávio Pinto', 'otavio_p', 27, '555.666.777-88'), (19, 'Patrícia Souza', 'patricia_s', 30, '666.777.888-99'), (20, 'Quirino Alves', 'quirino_a', 34, '777.888.999-00'), (21, 'Rafaela Costa', 'rafaelac', 26, '888.999.000-11'), (22, 'Samuel Lima', 'samuel_l', 25, '999.000.111-22'), (23, 'Tatiane Freitas', 'tatiane_f', 29, '000.111.222-33'), (24, 'Victor Hugo', 'victor_h', 31, '123.321.123-12'), (25, 'Wesley Moraes', 'wesley_m', 28, '321.123.321-21')]\n"
     ]
    }
   ],
   "source": [
    "consulta = conexao.cursor()\n",
    "resultado = consulta.execute(\"SELECT * FROM nomes\")\n",
    "resultado = consulta.fetchall() \n",
    "print (resultado)"
   ]
  }
 ],
 "metadata": {
  "kernelspec": {
   "display_name": "venv (3.13.2)",
   "language": "python",
   "name": "python3"
  },
  "language_info": {
   "codemirror_mode": {
    "name": "ipython",
    "version": 3
   },
   "file_extension": ".py",
   "mimetype": "text/x-python",
   "name": "python",
   "nbconvert_exporter": "python",
   "pygments_lexer": "ipython3",
   "version": "3.13.2"
  }
 },
 "nbformat": 4,
 "nbformat_minor": 5
}
